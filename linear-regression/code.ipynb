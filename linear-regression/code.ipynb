{
 "cells": [
  {
   "cell_type": "markdown",
   "metadata": {},
   "source": [
    "# Linear Regression Implementation for single variable\n",
    "\n",
    "Linear Regression comes under Supervised Machine Learning. The objective is to fit a straight (linear) line such that it \"fits\" the data as much as possible. For single variable regression, you can visualise the line y = mx + c"
   ]
  },
  {
   "cell_type": "code",
   "execution_count": null,
   "metadata": {},
   "outputs": [],
   "source": [
    "# Importing the necessary libraries\n",
    "import numpy as np\n",
    "import pandas as pd\n",
    "import matplotlib.pyplot as plt"
   ]
  },
  {
   "cell_type": "code",
   "execution_count": null,
   "metadata": {},
   "outputs": [],
   "source": [
    "# Reading the Data\n",
    "df = pd.read_csv('salary.csv')\n",
    "print(df.head(10))"
   ]
  },
  {
   "cell_type": "code",
   "execution_count": null,
   "metadata": {},
   "outputs": [],
   "source": [
    "# Unloading data to X and y\n",
    "X = np.array(df.iloc[:,0])\n",
    "y = np.array(df.iloc[:,1])\n",
    "m = len(X)"
   ]
  },
  {
   "cell_type": "code",
   "execution_count": null,
   "metadata": {},
   "outputs": [],
   "source": [
    "# Visualizing the Data\n",
    "plt.scatter(X,y)\n",
    "plt.xlabel(\"Experience\")\n",
    "plt.ylabel(\"Salary\")"
   ]
  },
  {
   "cell_type": "code",
   "execution_count": null,
   "metadata": {},
   "outputs": [],
   "source": [
    "print(np.shape(X))\n",
    "print(np.shape(y))"
   ]
  },
  {
   "cell_type": "markdown",
   "metadata": {},
   "source": [
    "At this point, we have the data ready. However we want X to be of order mx2 and y to be of mx1. Then we need a function to calculate the cost, and another one for gradient descent. X, y and theta are taken as matrices as calculation becomes very easy."
   ]
  },
  {
   "cell_type": "code",
   "execution_count": null,
   "metadata": {},
   "outputs": [],
   "source": [
    "# Parameter Initialisation and reshaping matrices\n",
    "theta = np.zeros((2,1))\n",
    "alpha = 0.01\n",
    "X = np.c_[np.ones(m), X]\n",
    "y = np.reshape(y, (m, 1))\n",
    "print(np.shape(X))\n",
    "print(np.shape(y))"
   ]
  },
  {
   "cell_type": "markdown",
   "metadata": {},
   "source": [
    "<img src=\"1.png\">"
   ]
  },
  {
   "cell_type": "code",
   "execution_count": null,
   "metadata": {},
   "outputs": [],
   "source": [
    "# Function to calculate cost\n",
    "def costfunc(X,y,theta):\n",
    "    hx = np.dot(X, theta)\n",
    "    cost = np.sum(np.power(hx - y, 2)) / (2*m)\n",
    "    return cost \n",
    "J = costfunc(X, y, theta) # Cost before gradient descent\n",
    "print(J)"
   ]
  },
  {
   "cell_type": "markdown",
   "metadata": {},
   "source": [
    "<img src = \"2.png\">"
   ]
  },
  {
   "cell_type": "code",
   "execution_count": null,
   "metadata": {},
   "outputs": [],
   "source": [
    "# Function for gradient descent\n",
    "def grad(X,y,alpha,theta):\n",
    "    for i in range(1000):\n",
    "        temp = np.matmul(X,theta)-y\n",
    "        temp = np.matmul(X.T,temp)\n",
    "        theta = theta - (alpha/m)*temp\n",
    "        \n",
    "    return theta\n",
    "\n",
    "theta = grad(X, y, alpha, theta)\n",
    "print(theta)"
   ]
  },
  {
   "cell_type": "code",
   "execution_count": null,
   "metadata": {},
   "outputs": [],
   "source": [
    "# Cost after gradient desccent\n",
    "J = costfunc(X, y, theta)\n",
    "print(J)"
   ]
  },
  {
   "cell_type": "code",
   "execution_count": null,
   "metadata": {},
   "outputs": [],
   "source": [
    "# Visualising the bestfit curve\n",
    "plt.scatter(X[:,1],y)\n",
    "plt.plot(X[:,1], np.dot(X,theta), color=\"red\")\n",
    "plt.xlabel(\"Experience\")\n",
    "plt.ylabel(\"Salary\")"
   ]
  },
  {
   "cell_type": "code",
   "execution_count": null,
   "metadata": {},
   "outputs": [],
   "source": []
  }
 ],
 "metadata": {
  "kernelspec": {
   "display_name": "Python 3",
   "language": "python",
   "name": "python3"
  },
  "language_info": {
   "codemirror_mode": {
    "name": "ipython",
    "version": 3
   },
   "file_extension": ".py",
   "mimetype": "text/x-python",
   "name": "python",
   "nbconvert_exporter": "python",
   "pygments_lexer": "ipython3",
   "version": "3.7.4"
  }
 },
 "nbformat": 4,
 "nbformat_minor": 2
}

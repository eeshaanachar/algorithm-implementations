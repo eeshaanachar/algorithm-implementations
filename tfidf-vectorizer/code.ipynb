{
 "metadata": {
  "language_info": {
   "codemirror_mode": {
    "name": "ipython",
    "version": 3
   },
   "file_extension": ".py",
   "mimetype": "text/x-python",
   "name": "python",
   "nbconvert_exporter": "python",
   "pygments_lexer": "ipython3",
   "version": "3.7.3-final"
  },
  "orig_nbformat": 2,
  "kernelspec": {
   "name": "python3",
   "display_name": "Python 3",
   "language": "python"
  }
 },
 "nbformat": 4,
 "nbformat_minor": 2,
 "cells": [
  {
   "cell_type": "code",
   "execution_count": 1,
   "metadata": {},
   "outputs": [],
   "source": [
    "import re\n",
    "import pandas as pd\n",
    "from math import log"
   ]
  },
  {
   "cell_type": "code",
   "execution_count": 2,
   "metadata": {},
   "outputs": [],
   "source": [
    "class TfidfVectorizer:\n",
    "\n",
    "    def clean_text(self, documents):\n",
    "\n",
    "        processed_documents = list()\n",
    "        for document in documents:\n",
    "            processed_documents.append(re.sub('[^A-z ]', '', document).strip().lower())\n",
    "\n",
    "        return processed_documents\n",
    "\n",
    "    def calculate_tf(self, documents):\n",
    "\n",
    "        tf = list()\n",
    "        for document in documents:\n",
    "            words = document.split()\n",
    "            word_count = len(words)\n",
    "            tf.append(dict())\n",
    "            for word in words:\n",
    "                tf[-1][word] = tf[-1].get(word, 0) + 1 / word_count\n",
    "                \n",
    "        return tf\n",
    "\n",
    "    def calculate_idf(self, documents):\n",
    "\n",
    "        all_words = set()\n",
    "        for document in documents:\n",
    "            all_words.update(document.split())\n",
    "\n",
    "        documents_with = dict()\n",
    "        for word in all_words:\n",
    "            documents_with[word] = 0\n",
    "            for document in documents:\n",
    "                if word in document.split():\n",
    "                    documents_with[word] += 1\n",
    "\n",
    "        idf = dict()\n",
    "        document_count = len(documents)\n",
    "        for word, count in documents_with.items():\n",
    "            idf[word] = log(document_count / count)\n",
    "\n",
    "        return idf\n",
    "\n",
    "    def calculate_tfidf(self, documents):\n",
    "\n",
    "        documents = self.clean_text(documents)\n",
    "        term_frequencies = self.calculate_tf(documents)\n",
    "        inverse_document_frequencies = self.calculate_idf(documents)\n",
    "\n",
    "        tfidf = list()\n",
    "        for dictionary in term_frequencies:\n",
    "            tfidf.append(dict())\n",
    "            for word, tf in dictionary.items():\n",
    "                tfidf[-1][word] = tf * inverse_document_frequencies[word]\n",
    "\n",
    "        return pd.DataFrame(tfidf).fillna(0)\n"
   ]
  },
  {
   "cell_type": "code",
   "execution_count": 7,
   "metadata": {},
   "outputs": [
    {
     "output_type": "execute_result",
     "data": {
      "text/plain": [
       "      betty    bought      some    butter       but  the       was    bitter  \\\n",
       "0  0.033007  0.066014  0.066014  0.132028  0.033007  0.0  0.033007  0.066014   \n",
       "1  0.000000  0.000000  0.000000  0.000000  0.000000  0.0  0.000000  0.000000   \n",
       "\n",
       "         so       she    better        to      make       man      went  \\\n",
       "0  0.033007  0.033007  0.066014  0.033007  0.033007  0.000000  0.000000   \n",
       "1  0.000000  0.000000  0.000000  0.000000  0.000000  0.099021  0.099021   \n",
       "\n",
       "        out       for         a      walk  \n",
       "0  0.000000  0.000000  0.000000  0.000000  \n",
       "1  0.099021  0.099021  0.099021  0.099021  "
      ],
      "text/html": "<div>\n<style scoped>\n    .dataframe tbody tr th:only-of-type {\n        vertical-align: middle;\n    }\n\n    .dataframe tbody tr th {\n        vertical-align: top;\n    }\n\n    .dataframe thead th {\n        text-align: right;\n    }\n</style>\n<table border=\"1\" class=\"dataframe\">\n  <thead>\n    <tr style=\"text-align: right;\">\n      <th></th>\n      <th>betty</th>\n      <th>bought</th>\n      <th>some</th>\n      <th>butter</th>\n      <th>but</th>\n      <th>the</th>\n      <th>was</th>\n      <th>bitter</th>\n      <th>so</th>\n      <th>she</th>\n      <th>better</th>\n      <th>to</th>\n      <th>make</th>\n      <th>man</th>\n      <th>went</th>\n      <th>out</th>\n      <th>for</th>\n      <th>a</th>\n      <th>walk</th>\n    </tr>\n  </thead>\n  <tbody>\n    <tr>\n      <th>0</th>\n      <td>0.033007</td>\n      <td>0.066014</td>\n      <td>0.066014</td>\n      <td>0.132028</td>\n      <td>0.033007</td>\n      <td>0.0</td>\n      <td>0.033007</td>\n      <td>0.066014</td>\n      <td>0.033007</td>\n      <td>0.033007</td>\n      <td>0.066014</td>\n      <td>0.033007</td>\n      <td>0.033007</td>\n      <td>0.000000</td>\n      <td>0.000000</td>\n      <td>0.000000</td>\n      <td>0.000000</td>\n      <td>0.000000</td>\n      <td>0.000000</td>\n    </tr>\n    <tr>\n      <th>1</th>\n      <td>0.000000</td>\n      <td>0.000000</td>\n      <td>0.000000</td>\n      <td>0.000000</td>\n      <td>0.000000</td>\n      <td>0.0</td>\n      <td>0.000000</td>\n      <td>0.000000</td>\n      <td>0.000000</td>\n      <td>0.000000</td>\n      <td>0.000000</td>\n      <td>0.000000</td>\n      <td>0.000000</td>\n      <td>0.099021</td>\n      <td>0.099021</td>\n      <td>0.099021</td>\n      <td>0.099021</td>\n      <td>0.099021</td>\n      <td>0.099021</td>\n    </tr>\n  </tbody>\n</table>\n</div>"
     },
     "metadata": {},
     "execution_count": 7
    }
   ],
   "source": [
    "documents = [\n",
    "    # 'This is a beautiful place',\n",
    "    # 'Can you call me at 9012345678?',\n",
    "    # 'Can you deliver this parcel to this address?',\n",
    "    # 'The rocket is about to launch!',\n",
    "    # \"HTML isn't a programming language\",\n",
    "    'Betty bought some butter. But the butter was bitter. So she bought some better butter to make the bitter butter better',\n",
    "    'The man went out for a walk',\n",
    "    # 'The children sat around the fire',\n",
    "]\n",
    "\n",
    "vectorizer = TfidfVectorizer()\n",
    "vectorizer.calculate_tfidf(documents)"
   ]
  },
  {
   "cell_type": "code",
   "execution_count": null,
   "metadata": {},
   "outputs": [],
   "source": []
  }
 ]
}